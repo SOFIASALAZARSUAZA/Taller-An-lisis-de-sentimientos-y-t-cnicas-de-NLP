{
 "cells": [
  {
   "cell_type": "markdown",
   "metadata": {},
   "source": [
    "![image info](https://raw.githubusercontent.com/albahnsen/MIAD_ML_and_NLP/main/images/banner_1.png)"
   ]
  },
  {
   "cell_type": "markdown",
   "metadata": {},
   "source": [
    "# Taller: Análisis de sentimientos y técnicas de NLP\n",
    "\n",
    "En este taller podrán poner en práctica sus conocimientos sobre las diferentes técnicas para el procesamiento de lenguaje natural. El taller está constituido por 5 puntos, en los cuales deberan seguir las intrucciones de cada numeral para su desarrollo."
   ]
  },
  {
   "cell_type": "markdown",
   "metadata": {},
   "source": [
    "## Datos predicción sentimientos de viajeros en Twitter\n",
    "\n",
    "En este taller se usará el conjunto de datos de sentimientos sobre distintas aerolíneas de EE.UU. provenientes de Twitter. Cada observación contiene si el sentimiento de los tweets es positivo, neutral o negativo teniendo en cuenta distintas variables como aerolínea y las razones de los sentimientos negativos (como \"retraso en el vuelo\" o \"servicio grosero\"). El objetivo es predecir el sentimiento asociado a cada tweet. Para más detalles pueden visitar el siguiente enlace: [datos](https://www.kaggle.com/crowdflower/twitter-airline-sentiment)."
   ]
  },
  {
   "cell_type": "code",
   "execution_count": 1,
   "metadata": {},
   "outputs": [],
   "source": [
    "import warnings\n",
    "warnings.filterwarnings('ignore')"
   ]
  },
  {
   "cell_type": "code",
   "execution_count": 2,
   "metadata": {},
   "outputs": [],
   "source": [
    "# Importación de librerías\n",
    "import pandas as pd\n",
    "import numpy as np\n",
    "%matplotlib inline\n",
    "import matplotlib.pyplot as plt"
   ]
  },
  {
   "cell_type": "code",
   "execution_count": 3,
   "metadata": {},
   "outputs": [
    {
     "data": {
      "text/html": [
       "<div>\n",
       "<style scoped>\n",
       "    .dataframe tbody tr th:only-of-type {\n",
       "        vertical-align: middle;\n",
       "    }\n",
       "\n",
       "    .dataframe tbody tr th {\n",
       "        vertical-align: top;\n",
       "    }\n",
       "\n",
       "    .dataframe thead th {\n",
       "        text-align: right;\n",
       "    }\n",
       "</style>\n",
       "<table border=\"1\" class=\"dataframe\">\n",
       "  <thead>\n",
       "    <tr style=\"text-align: right;\">\n",
       "      <th></th>\n",
       "      <th>airline_sentiment</th>\n",
       "      <th>airline_sentiment_confidence</th>\n",
       "      <th>negativereason</th>\n",
       "      <th>negativereason_confidence</th>\n",
       "      <th>airline</th>\n",
       "      <th>airline_sentiment_gold</th>\n",
       "      <th>name</th>\n",
       "      <th>negativereason_gold</th>\n",
       "      <th>retweet_count</th>\n",
       "      <th>text</th>\n",
       "      <th>tweet_coord</th>\n",
       "      <th>tweet_created</th>\n",
       "      <th>tweet_location</th>\n",
       "      <th>user_timezone</th>\n",
       "    </tr>\n",
       "    <tr>\n",
       "      <th>tweet_id</th>\n",
       "      <th></th>\n",
       "      <th></th>\n",
       "      <th></th>\n",
       "      <th></th>\n",
       "      <th></th>\n",
       "      <th></th>\n",
       "      <th></th>\n",
       "      <th></th>\n",
       "      <th></th>\n",
       "      <th></th>\n",
       "      <th></th>\n",
       "      <th></th>\n",
       "      <th></th>\n",
       "      <th></th>\n",
       "    </tr>\n",
       "  </thead>\n",
       "  <tbody>\n",
       "    <tr>\n",
       "      <th>570306133677760513</th>\n",
       "      <td>neutral</td>\n",
       "      <td>1.0000</td>\n",
       "      <td>NaN</td>\n",
       "      <td>NaN</td>\n",
       "      <td>Virgin America</td>\n",
       "      <td>NaN</td>\n",
       "      <td>cairdin</td>\n",
       "      <td>NaN</td>\n",
       "      <td>0</td>\n",
       "      <td>@VirginAmerica What @dhepburn said.</td>\n",
       "      <td>NaN</td>\n",
       "      <td>2015-02-24 11:35:52 -0800</td>\n",
       "      <td>NaN</td>\n",
       "      <td>Eastern Time (US &amp; Canada)</td>\n",
       "    </tr>\n",
       "    <tr>\n",
       "      <th>570301130888122368</th>\n",
       "      <td>positive</td>\n",
       "      <td>0.3486</td>\n",
       "      <td>NaN</td>\n",
       "      <td>0.0000</td>\n",
       "      <td>Virgin America</td>\n",
       "      <td>NaN</td>\n",
       "      <td>jnardino</td>\n",
       "      <td>NaN</td>\n",
       "      <td>0</td>\n",
       "      <td>@VirginAmerica plus you've added commercials t...</td>\n",
       "      <td>NaN</td>\n",
       "      <td>2015-02-24 11:15:59 -0800</td>\n",
       "      <td>NaN</td>\n",
       "      <td>Pacific Time (US &amp; Canada)</td>\n",
       "    </tr>\n",
       "    <tr>\n",
       "      <th>570301083672813571</th>\n",
       "      <td>neutral</td>\n",
       "      <td>0.6837</td>\n",
       "      <td>NaN</td>\n",
       "      <td>NaN</td>\n",
       "      <td>Virgin America</td>\n",
       "      <td>NaN</td>\n",
       "      <td>yvonnalynn</td>\n",
       "      <td>NaN</td>\n",
       "      <td>0</td>\n",
       "      <td>@VirginAmerica I didn't today... Must mean I n...</td>\n",
       "      <td>NaN</td>\n",
       "      <td>2015-02-24 11:15:48 -0800</td>\n",
       "      <td>Lets Play</td>\n",
       "      <td>Central Time (US &amp; Canada)</td>\n",
       "    </tr>\n",
       "    <tr>\n",
       "      <th>570301031407624196</th>\n",
       "      <td>negative</td>\n",
       "      <td>1.0000</td>\n",
       "      <td>Bad Flight</td>\n",
       "      <td>0.7033</td>\n",
       "      <td>Virgin America</td>\n",
       "      <td>NaN</td>\n",
       "      <td>jnardino</td>\n",
       "      <td>NaN</td>\n",
       "      <td>0</td>\n",
       "      <td>@VirginAmerica it's really aggressive to blast...</td>\n",
       "      <td>NaN</td>\n",
       "      <td>2015-02-24 11:15:36 -0800</td>\n",
       "      <td>NaN</td>\n",
       "      <td>Pacific Time (US &amp; Canada)</td>\n",
       "    </tr>\n",
       "    <tr>\n",
       "      <th>570300817074462722</th>\n",
       "      <td>negative</td>\n",
       "      <td>1.0000</td>\n",
       "      <td>Can't Tell</td>\n",
       "      <td>1.0000</td>\n",
       "      <td>Virgin America</td>\n",
       "      <td>NaN</td>\n",
       "      <td>jnardino</td>\n",
       "      <td>NaN</td>\n",
       "      <td>0</td>\n",
       "      <td>@VirginAmerica and it's a really big bad thing...</td>\n",
       "      <td>NaN</td>\n",
       "      <td>2015-02-24 11:14:45 -0800</td>\n",
       "      <td>NaN</td>\n",
       "      <td>Pacific Time (US &amp; Canada)</td>\n",
       "    </tr>\n",
       "  </tbody>\n",
       "</table>\n",
       "</div>"
      ],
      "text/plain": [
       "                   airline_sentiment  airline_sentiment_confidence  \\\n",
       "tweet_id                                                             \n",
       "570306133677760513           neutral                        1.0000   \n",
       "570301130888122368          positive                        0.3486   \n",
       "570301083672813571           neutral                        0.6837   \n",
       "570301031407624196          negative                        1.0000   \n",
       "570300817074462722          negative                        1.0000   \n",
       "\n",
       "                   negativereason  negativereason_confidence         airline  \\\n",
       "tweet_id                                                                       \n",
       "570306133677760513            NaN                        NaN  Virgin America   \n",
       "570301130888122368            NaN                     0.0000  Virgin America   \n",
       "570301083672813571            NaN                        NaN  Virgin America   \n",
       "570301031407624196     Bad Flight                     0.7033  Virgin America   \n",
       "570300817074462722     Can't Tell                     1.0000  Virgin America   \n",
       "\n",
       "                   airline_sentiment_gold        name negativereason_gold  \\\n",
       "tweet_id                                                                    \n",
       "570306133677760513                    NaN     cairdin                 NaN   \n",
       "570301130888122368                    NaN    jnardino                 NaN   \n",
       "570301083672813571                    NaN  yvonnalynn                 NaN   \n",
       "570301031407624196                    NaN    jnardino                 NaN   \n",
       "570300817074462722                    NaN    jnardino                 NaN   \n",
       "\n",
       "                    retweet_count  \\\n",
       "tweet_id                            \n",
       "570306133677760513              0   \n",
       "570301130888122368              0   \n",
       "570301083672813571              0   \n",
       "570301031407624196              0   \n",
       "570300817074462722              0   \n",
       "\n",
       "                                                                 text  \\\n",
       "tweet_id                                                                \n",
       "570306133677760513                @VirginAmerica What @dhepburn said.   \n",
       "570301130888122368  @VirginAmerica plus you've added commercials t...   \n",
       "570301083672813571  @VirginAmerica I didn't today... Must mean I n...   \n",
       "570301031407624196  @VirginAmerica it's really aggressive to blast...   \n",
       "570300817074462722  @VirginAmerica and it's a really big bad thing...   \n",
       "\n",
       "                   tweet_coord              tweet_created tweet_location  \\\n",
       "tweet_id                                                                   \n",
       "570306133677760513         NaN  2015-02-24 11:35:52 -0800            NaN   \n",
       "570301130888122368         NaN  2015-02-24 11:15:59 -0800            NaN   \n",
       "570301083672813571         NaN  2015-02-24 11:15:48 -0800      Lets Play   \n",
       "570301031407624196         NaN  2015-02-24 11:15:36 -0800            NaN   \n",
       "570300817074462722         NaN  2015-02-24 11:14:45 -0800            NaN   \n",
       "\n",
       "                                 user_timezone  \n",
       "tweet_id                                        \n",
       "570306133677760513  Eastern Time (US & Canada)  \n",
       "570301130888122368  Pacific Time (US & Canada)  \n",
       "570301083672813571  Central Time (US & Canada)  \n",
       "570301031407624196  Pacific Time (US & Canada)  \n",
       "570300817074462722  Pacific Time (US & Canada)  "
      ]
     },
     "execution_count": 3,
     "metadata": {},
     "output_type": "execute_result"
    }
   ],
   "source": [
    "# Lectura de la información de archivo .zip\n",
    "tweets = pd.read_csv('https://raw.githubusercontent.com/albahnsen/MIAD_ML_and_NLP/main/datasets/Tweets.zip', index_col=0)\n",
    "\n",
    "# Visualización dataset\n",
    "tweets.head()"
   ]
  },
  {
   "cell_type": "code",
   "execution_count": 4,
   "metadata": {},
   "outputs": [
    {
     "data": {
      "text/plain": [
       "(14640, 14)"
      ]
     },
     "execution_count": 4,
     "metadata": {},
     "output_type": "execute_result"
    }
   ],
   "source": [
    "# Impresión tamaño del cojunto de datos\n",
    "tweets.shape"
   ]
  },
  {
   "cell_type": "markdown",
   "metadata": {},
   "source": [
    "### Análisis descriptivo"
   ]
  },
  {
   "cell_type": "code",
   "execution_count": 5,
   "metadata": {},
   "outputs": [
    {
     "data": {
      "text/plain": [
       "airline_sentiment\n",
       "negative    9178\n",
       "neutral     3099\n",
       "positive    2363\n",
       "Name: count, dtype: int64"
      ]
     },
     "execution_count": 5,
     "metadata": {},
     "output_type": "execute_result"
    }
   ],
   "source": [
    "# Cuenta de tweets por cada sentimiento\n",
    "tweets['airline_sentiment'].value_counts()"
   ]
  },
  {
   "cell_type": "code",
   "execution_count": 6,
   "metadata": {},
   "outputs": [
    {
     "data": {
      "text/plain": [
       "airline\n",
       "United            3822\n",
       "US Airways        2913\n",
       "American          2759\n",
       "Southwest         2420\n",
       "Delta             2222\n",
       "Virgin America     504\n",
       "Name: count, dtype: int64"
      ]
     },
     "execution_count": 6,
     "metadata": {},
     "output_type": "execute_result"
    }
   ],
   "source": [
    "# Cuenta de tweets por cada aerolínea\n",
    "tweets['airline'].value_counts()"
   ]
  },
  {
   "cell_type": "code",
   "execution_count": 7,
   "metadata": {},
   "outputs": [
    {
     "data": {
      "text/plain": [
       "<Axes: title={'center': 'Sentiminetos por aerolínea'}, xlabel='airline'>"
      ]
     },
     "execution_count": 7,
     "metadata": {},
     "output_type": "execute_result"
    },
    {
     "data": {
      "image/png": "[encoded data removed]",
      "text/plain": [
       "<Figure size 1000x600 with 1 Axes>"
      ]
     },
     "metadata": {},
     "output_type": "display_data"
    }
   ],
   "source": [
    "# Plot con cuenta de tweets por cada aerolínea y sentimiento\n",
    "pd.crosstab(index = tweets[\"airline\"],columns = tweets[\"airline_sentiment\"]).plot(kind='bar',figsize=(10, 6),alpha=0.5,rot=0,stacked=True,title=\"Sentiminetos por aerolínea\")"
   ]
  },
  {
   "cell_type": "markdown",
   "metadata": {},
   "source": [
    "### Liberias y Variables de interés y predicción"
   ]
  },
  {
   "cell_type": "code",
   "execution_count": 8,
   "metadata": {},
   "outputs": [
    {
     "name": "stderr",
     "output_type": "stream",
     "text": [
      "[nltk_data] Downloading package averaged_perceptron_tagger to\n",
      "[nltk_data]     C:\\Users\\Sofia\\AppData\\Roaming\\nltk_data...\n",
      "[nltk_data]   Package averaged_perceptron_tagger is already up-to-\n",
      "[nltk_data]       date!\n",
      "[nltk_data] Downloading package wordnet to\n",
      "[nltk_data]     C:\\Users\\Sofia\\AppData\\Roaming\\nltk_data...\n",
      "[nltk_data]   Package wordnet is already up-to-date!\n",
      "[nltk_data] Downloading package punkt to\n",
      "[nltk_data]     C:\\Users\\Sofia\\AppData\\Roaming\\nltk_data...\n",
      "[nltk_data]   Package punkt is already up-to-date!\n",
      "[nltk_data] Downloading package stopwords to\n",
      "[nltk_data]     C:\\Users\\Sofia\\AppData\\Roaming\\nltk_data...\n",
      "[nltk_data]   Package stopwords is already up-to-date!\n",
      "[nltk_data] Downloading package omw-1.4 to\n",
      "[nltk_data]     C:\\Users\\Sofia\\AppData\\Roaming\\nltk_data...\n",
      "[nltk_data]   Package omw-1.4 is already up-to-date!\n"
     ]
    },
    {
     "data": {
      "text/plain": [
       "True"
      ]
     },
     "execution_count": 8,
     "metadata": {},
     "output_type": "execute_result"
    }
   ],
   "source": [
    "from sklearn.model_selection import train_test_split, cross_val_score\n",
    "from sklearn.feature_extraction.text import CountVectorizer, TfidfVectorizer\n",
    "from sklearn.ensemble import RandomForestClassifier\n",
    "from nltk.stem.snowball import SnowballStemmer\n",
    "from nltk.stem import WordNetLemmatizer\n",
    "from sklearn.feature_extraction.text import TfidfVectorizer, CountVectorizer\n",
    "import numpy as np\n",
    "import pandas as pd\n",
    "import nltk\n",
    "from sklearn.metrics import accuracy_score\n",
    "from collections import Counter\n",
    "from nltk.stem import WordNetLemmatizer\n",
    "from sklearn.feature_extraction.text import CountVectorizer\n",
    "from sklearn.ensemble import RandomForestClassifier\n",
    "from nltk.stem import WordNetLemmatizer\n",
    "from nltk import pos_tag\n",
    "from nltk.tokenize import word_tokenize\n",
    "wordnet_lemmatizer = WordNetLemmatizer()\n",
    "import nltk\n",
    "nltk.download('averaged_perceptron_tagger')\n",
    "import nltk\n",
    "nltk.download('wordnet')\n",
    "# Importación de librerias\n",
    "from nltk.stem import WordNetLemmatizer\n",
    "wordnet_lemmatizer = WordNetLemmatizer()\n",
    "import nltk\n",
    "nltk.download('punkt')\n",
    "nltk.download('stopwords')\n",
    "nltk.download('omw-1.4')"
   ]
  },
  {
   "cell_type": "code",
   "execution_count": 9,
   "metadata": {},
   "outputs": [],
   "source": [
    "from imblearn.under_sampling import RandomUnderSampler\n",
    "from imblearn.over_sampling import RandomOverSampler, SMOTE\n",
    "from imblearn.combine import SMOTEENN, SMOTETomek"
   ]
  },
  {
   "cell_type": "code",
   "execution_count": 10,
   "metadata": {},
   "outputs": [],
   "source": [
    "# Separación de variables predictoras (X) y de variable de interés (y)\n",
    "X = tweets['text']\n",
    "y = tweets['airline_sentiment'].map({'negative':-1,'neutral':0,'positive':1})"
   ]
  },
  {
   "cell_type": "code",
   "execution_count": 11,
   "metadata": {},
   "outputs": [],
   "source": [
    "# Separación de datos en set de entrenamiento y test\n",
    "X_train, X_test, y_train, y_test = train_test_split(X, y, test_size=0.33, random_state=42)"
   ]
  },
  {
   "cell_type": "markdown",
   "metadata": {},
   "source": [
    "### Punto 1 - Uso de CountVectorizer\n",
    "\n",
    "En la celda 1 creen un modelo de random forest con la libreria sklearn que prediga el sentimiento de los tweets usando los set de entrenamiento y test definidos anteriormente. Usen la función **CountVectorizer** y presenten el desempeño del modelo con la métrica del acurracy.\n",
    "\n",
    "Recuerden que el preprocesamiento que se haga sobre los datos de entrenamiento  (*.fit_transform()*) deben ser aplicado al set de test (*.transform()*)."
   ]
  },
  {
   "cell_type": "code",
   "execution_count": 12,
   "metadata": {},
   "outputs": [
    {
     "name": "stdout",
     "output_type": "stream",
     "text": [
      "Accuracy del modelo: 0.7711092715231788\n"
     ]
    }
   ],
   "source": [
    "# Celda 1\n",
    "\n",
    "# Vectorizamos el texto\n",
    "vectorizacion = CountVectorizer()\n",
    "X_train_vectorizado = vectorizacion.fit_transform(X_train)\n",
    "X_test_vectorizado = vectorizacion.transform(X_test)\n",
    "\n",
    "modelo = RandomForestClassifier(random_state=42)\n",
    "modelo.fit(X_train_vectorizado, y_train)\n",
    "\n",
    "# Predecimos y calculamos la precisión del modelo\n",
    "y_prediccion = modelo.predict(X_test_vectorizado)\n",
    "accuracy_p1 = accuracy_score(y_test, y_prediccion)\n",
    "\n",
    "print(\"Accuracy del modelo:\", accuracy_p1)\n"
   ]
  },
  {
   "cell_type": "markdown",
   "metadata": {},
   "source": [
    "**El valor obtenido, 0,7711, refleja un rendimiento decente, especialmente considerando la variabilidad que puede tener el lenguaje en los tweets y las distintas formas en que las personas expresan sus sentimientos.**\n"
   ]
  },
  {
   "cell_type": "markdown",
   "metadata": {},
   "source": [
    "### Punto 2 - Eliminación de Stopwords\n",
    "\n",
    "En la celda 2 creen un modelo de random forest con la libreria sklearn que prediga el sentimiento de los tweets usando los set de entrenamiento y test definidos anteriormente. Usen la función CountVectorizer, **eliminen stopwords** y presenten el desempeño del modelo con la métrica del acurracy.\n",
    "\n",
    "Recuerden que el preprocesamiento que se haga sobre los datos de entrenamiento  (*.fit_transform()*) deben ser aplicado al set de test (*.transform()*)."
   ]
  },
  {
   "cell_type": "code",
   "execution_count": 13,
   "metadata": {},
   "outputs": [
    {
     "name": "stdout",
     "output_type": "stream",
     "text": [
      "Accuracy Stopwords: 0.7622102649006622\n"
     ]
    }
   ],
   "source": [
    "\n",
    "# Celda 2\n",
    "# Paso 1: crear objeto CountVectorizer y eliminar stopwords\n",
    "vect = CountVectorizer(stop_words='english')\n",
    "\n",
    "# Paso 2: aplicar el objeto CountVectorizer ya entrenado al set de entrenamiento\n",
    "X_train_vect = vect.fit_transform(X_train)\n",
    "\n",
    "# Paso 3: aplicar el objeto CountVectorizer ya entrenado al set de test\n",
    "X_test_vect = vect.transform(X_test)\n",
    "\n",
    "# Paso 4: crear objeto RandomForestClassifier y ajustarlo al set de entrenamiento\n",
    "rf = RandomForestClassifier()\n",
    "rf.fit(X_train_vect, y_train)\n",
    "\n",
    "# Paso 5: predecir las etiquetas de sentimiento para el set de test\n",
    "y_pred = rf.predict(X_test_vect)\n",
    "\n",
    "# Paso 6: evaluar el desempeño del modelo usando la métrica de accuracy\n",
    "from sklearn.metrics import accuracy_score\n",
    "accuracy_p2 = accuracy_score(y_test, y_pred)\n",
    "print(\"Accuracy Stopwords:\", accuracy_p2)\n"
   ]
  },
  {
   "cell_type": "markdown",
   "metadata": {},
   "source": [
    "### Punto 3 - Lematización con verbos\n",
    "\n",
    "En la celda 3 creen un modelo de random forest con la libreria sklearn que prediga el sentimiento de los tweets usando los set de entrenamiento y test definidos anteriormente. Usen la función CountVectorizer, **lematizen el texto con verbos** y presenten el desempeño del modelo con la métrica del acurracy.\n",
    "\n",
    "Recuerden que el preprocesamiento que se haga sobre los datos de entrenamiento  (*.fit_transform()*) deben ser aplicado al set de test (*.transform()*)."
   ]
  },
  {
   "cell_type": "code",
   "execution_count": 14,
   "metadata": {},
   "outputs": [],
   "source": [
    "# Celda 3\n",
    "#_________________________________________________________________________________________\n",
    "# Definición de la función que tenga como parámetro texto y devuelva una lista de lemas\n",
    "#_________________________________________________________________________________________\n",
    "#\n",
    "# Acontinuación se define una función para lematizar el texto con verbos, esta función recibe \n",
    "# el párametro de texto para ser lematizado\n",
    "#_________________________________________________________________________________________\n",
    "\n",
    "def lemmatize_with_verbs(text):\n",
    "    lemmatizer = WordNetLemmatizer()\n",
    "    tokens = word_tokenize(text)\n",
    "    lemmatized_tokens = []\n",
    "    for word, tag in pos_tag(tokens):\n",
    "        if tag.startswith('V'):  # Si la palabra es un verbo\n",
    "            lemmatized_tokens.append(lemmatizer.lemmatize(word, pos='v'))  # Lematizar el verbo\n",
    "        else:\n",
    "            lemmatized_tokens.append(word)  # Mantener la palabra original si no es un verbo\n",
    "    return ' '.join(lemmatized_tokens)\n",
    "#_________________________________________________________________________________________\n",
    "#\n",
    "# Acontinuación se define una función para lematizar el texto sin categoria gramatical,  \n",
    "# esta función recibe el párametro de texto para ser lematizado\n",
    "#_________________________________________________________________________________________\n",
    "\n",
    "def split_into_lemmas(text):\n",
    "    lemmatizer = WordNetLemmatizer()\n",
    "    tokens = nltk.word_tokenize(text)\n",
    "    lemmas = [lemmatizer.lemmatize(token) for token in tokens]\n",
    "    return lemmas\n"
   ]
  },
  {
   "cell_type": "code",
   "execution_count": 15,
   "metadata": {},
   "outputs": [],
   "source": [
    "#_________________________________________________________________________________________\n",
    "# Para definir la mejor estrategia de lematizacón se utiliza un modelo RF y los distintos\n",
    "# métodos de preprocesamiento\n",
    "#_________________________________________________________________________________________\n",
    "\n",
    "X_train_lemmatized = X_train.apply(lemmatize_with_verbs)\n",
    "X_test_lemmatized = X_test.apply(lemmatize_with_verbs)\n",
    "\n",
    "# Crear CountVectorizer con el analizador de split into lemas\n",
    "vect_lemas_split = CountVectorizer(analyzer=split_into_lemmas)\n",
    "# Crear CountVectorizer con el analizador de lematize with verbs\n",
    "vect_lemas_verb = CountVectorizer(analyzer=lemmatize_with_verbs)"
   ]
  },
  {
   "cell_type": "code",
   "execution_count": 16,
   "metadata": {},
   "outputs": [
    {
     "name": "stdout",
     "output_type": "stream",
     "text": [
      "Accuracy usando split_into_lemmas: 0.765521523178808\n",
      "Accuracy usando lemmatize_with_verbs: 0.7146109271523179\n"
     ]
    }
   ],
   "source": [
    "# Creación de matrices de documentos usando CountVectorizer\n",
    "X_train_vectorized_split = vect_lemas_split.fit_transform(X_train)\n",
    "X_test_vectorized_split = vect_lemas_split.transform(X_test)\n",
    "\n",
    "X_train_vectorized_verb = vect_lemas_verb.fit_transform(X_train)\n",
    "X_test_vectorized_verb = vect_lemas_verb.transform(X_test)\n",
    "\n",
    "# Modelo de Random Forest\n",
    "rf_classifier_split = RandomForestClassifier()\n",
    "rf_classifier_verb = RandomForestClassifier()\n",
    "\n",
    "rf_classifier_split.fit(X_train_vectorized_split, y_train)\n",
    "rf_classifier_verb.fit(X_train_vectorized_verb, y_train)\n",
    "\n",
    "# Metricas\n",
    "\n",
    "accuracy_split = rf_classifier_split.score(X_test_vectorized_split, y_test)\n",
    "accuracy_verb = rf_classifier_verb.score(X_test_vectorized_verb, y_test)\n",
    "print(\"Accuracy usando split_into_lemmas:\", accuracy_split)\n",
    "print(\"Accuracy usando lemmatize_with_verbs:\", accuracy_verb)"
   ]
  },
  {
   "cell_type": "markdown",
   "metadata": {},
   "source": [
    "### Interpretación y comentarios punto 3\n",
    "***Como se puede ver, la lematización con verbos le da al modelo un accuracy de 0.725, lo cual es más bajo que lematizar sin categoría gramatical. No obstante, el enunciado explícitamente pide evaluar el primer modelo, por lo que éste será tenido en cuenta para hacer la comparación en el punto 5.***\n"
   ]
  },
  {
   "cell_type": "markdown",
   "metadata": {},
   "source": [
    "### Pasos adicionales punto 3\n",
    "A continuación se decidió, proactivamente, mejorar el modelo y probar con otros para concluir cuál tiene la mejor métrica. Sin embargo, esto no será tenido en cuenta en el punto 5"
   ]
  },
  {
   "cell_type": "code",
   "execution_count": 17,
   "metadata": {},
   "outputs": [
    {
     "name": "stdout",
     "output_type": "stream",
     "text": [
      "Distribución de clases después de submuestreo:\n",
      "Counter({-1: 1600, 0: 1600, 1: 1600})\n",
      "Counter({0: 6093, -1: 6093, 1: 6093})\n",
      "Counter({0: 6093, -1: 6093, 1: 6093})\n",
      "Counter({1: 4051, 0: 3479, -1: 20})\n",
      "Counter({-1: 6091, 0: 6086, 1: 6084})\n"
     ]
    }
   ],
   "source": [
    "#_________________________________________________________________________________________\n",
    "# Debido al desbalance de clases se realiza el siguiente preprocesamiento\n",
    "#_________________________________________________________________________________________\n",
    "#\n",
    "# (undersampling)\n",
    "undersampler = RandomUnderSampler(random_state=42)\n",
    "X_train_undersampled, y_train_undersampled = undersampler.fit_resample(X_train_vectorized_split, y_train)\n",
    "\n",
    "#(oversampling)\n",
    "oversampler = RandomOverSampler(random_state=42)\n",
    "X_train_oversampled, y_train_oversampled = oversampler.fit_resample(X_train_vectorized_split, y_train)\n",
    "\n",
    "# (SMOTE)\n",
    "smote = SMOTE(random_state=42)\n",
    "X_train_smote, y_train_smote = smote.fit_resample(X_train_vectorized_split, y_train)\n",
    "\n",
    "# (SMOTEENN y SMOTETomek)\n",
    "smoteenn = SMOTEENN(random_state=42)\n",
    "X_train_smoteenn, y_train_smoteenn = smoteenn.fit_resample(X_train_vectorized_split, y_train)\n",
    "smotetomek = SMOTETomek(random_state=42)\n",
    "X_train_smotetomek, y_train_smotetomek = smotetomek.fit_resample(X_train_vectorized_split, y_train)\n",
    "\n",
    "# Verificar la distribución de las clases después del remuestreo\n",
    "print(\"Distribución de clases después de submuestreo:\")\n",
    "print(Counter(y_train_undersampled))\n",
    "print(Counter(y_train_oversampled))\n",
    "print(Counter(y_train_smote))\n",
    "print(Counter(y_train_smoteenn))\n",
    "print(Counter(y_train_smotetomek))"
   ]
  },
  {
   "cell_type": "code",
   "execution_count": 18,
   "metadata": {},
   "outputs": [
    {
     "name": "stdout",
     "output_type": "stream",
     "text": [
      "Accuracy usando BalancedRandomForestClassifier con submuestreo: 0.7193708609271523\n",
      "Accuracy usando BalancedRandomForestClassifier con sobremuestreo aleatorio: 0.7913907284768212\n",
      "Accuracy usando BalancedRandomForestClassifier con SMOTE: 0.7663493377483444\n",
      "Accuracy usando BalancedRandomForestClassifier con SMOTEENN: 0.28683774834437087\n",
      "Accuracy usando BalancedRandomForestClassifier con SMOTETomek: 0.7649006622516556\n"
     ]
    }
   ],
   "source": [
    "from sklearn.metrics import accuracy_score, precision_score, recall_score, f1_score, classification_report, confusion_matrix\n",
    "#_________________________________________________________________________\n",
    "# Modelo RF con balanceo de datos con lematización sin categorización\n",
    "#_________________________________________________________________________\n",
    "# Modelo BalancedRandomForestClassifier con cada técnica de remuestreo\n",
    "brf_undersampled = RandomForestClassifier(random_state=42)\n",
    "brf_oversampled = RandomForestClassifier(random_state=42)\n",
    "brf_smote = RandomForestClassifier(random_state=42)\n",
    "brf_smoteenn = RandomForestClassifier(random_state=42)\n",
    "brf_smotetomek = RandomForestClassifier(random_state=42)\n",
    "\n",
    "# Entrenamiento \n",
    "brf_undersampled.fit(X_train_undersampled, y_train_undersampled)\n",
    "brf_oversampled.fit(X_train_oversampled, y_train_oversampled)\n",
    "brf_smote.fit(X_train_smote, y_train_smote)\n",
    "brf_smoteenn.fit(X_train_smoteenn, y_train_smoteenn)\n",
    "brf_smotetomek.fit(X_train_smotetomek, y_train_smotetomek)\n",
    "\n",
    "# Predicciones\n",
    "brf_pred_undersampled = brf_undersampled.predict(X_test_vectorized_split)\n",
    "brf_pred_oversampled = brf_oversampled.predict(X_test_vectorized_split)\n",
    "brf_pred_smote = brf_smote.predict(X_test_vectorized_split)\n",
    "brf_pred_smoteenn = brf_smoteenn.predict(X_test_vectorized_split)\n",
    "brf_pred_smotetomek = brf_smotetomek.predict(X_test_vectorized_split)\n",
    "\n",
    "# Metricas\n",
    "accuracy_undersampled = accuracy_score(y_test, brf_pred_undersampled)\n",
    "accuracy_oversampled = accuracy_score(y_test, brf_pred_oversampled)\n",
    "accuracy_smote = accuracy_score(y_test, brf_pred_smote)\n",
    "accuracy_smoteenn = accuracy_score(y_test, brf_pred_smoteenn)\n",
    "accuracy_smotetomek = accuracy_score(y_test, brf_pred_smotetomek)\n",
    "\n",
    "print(\"Accuracy usando RandomForestClassifier con submuestreo:\", accuracy_undersampled)\n",
    "print(\"Accuracy usando RandomForestClassifier con sobremuestreo aleatorio:\", accuracy_oversampled)\n",
    "print(\"Accuracy usando RandomForestClassifier con SMOTE:\", accuracy_smote)\n",
    "print(\"Accuracy usando RandomForestClassifier con SMOTEENN:\", accuracy_smoteenn)\n",
    "print(\"Accuracy usando RandomForestClassifier con SMOTETomek:\", accuracy_smotetomek)"
   ]
  },
  {
   "cell_type": "code",
   "execution_count": 31,
   "metadata": {
    "scrolled": false
   },
   "outputs": [
    {
     "name": "stdout",
     "output_type": "stream",
     "text": [
      "Accuracy usando RandomForestClassifier con submuestreo: 0.6672185430463576\n",
      "Accuracy usando RandomForestClassifier con sobremuestreo aleatorio: 0.7290976821192053\n"
     ]
    }
   ],
   "source": [
    "#_________________________________________________________________________\n",
    "# Modelo RF con balanceo de datos con lematización categorización por verbos\n",
    "#_________________________________________________________________________\n",
    "\n",
    "# (undersampling)\n",
    "undersampler = RandomUnderSampler(random_state=42)\n",
    "X_train_undersampled_verb, y_train_undersampled_verb = undersampler.fit_resample(X_train_vectorized_verb, y_train)\n",
    "\n",
    "#(oversampling)\n",
    "oversampler = RandomOverSampler(random_state=42)\n",
    "X_train_oversampled_verb_o, y_train_oversampled_verb_o = oversampler.fit_resample(X_train_vectorized_verb, y_train)\n",
    "\n",
    "# Modelo BalancedRandomForestClassifier con cada técnica de remuestreo\n",
    "brf_undersampled_verb = RandomForestClassifier(random_state=42)\n",
    "brf_oversampled_verb = RandomForestClassifier(random_state=42)\n",
    "\n",
    "# Entrenamiento \n",
    "brf_undersampled_verb.fit(X_train_undersampled_verb, y_train_undersampled_verb)\n",
    "brf_oversampled_verb.fit(X_train_oversampled_verb_o, y_train_oversampled_verb_o)\n",
    "\n",
    "# Predicciones\n",
    "brf_pred_undersampled_verb = brf_undersampled_verb.predict(X_test_vectorized_verb)\n",
    "brf_pred_oversampled_verb = brf_oversampled_verb.predict(X_test_vectorized_verb)\n",
    "\n",
    "# Metricas\n",
    "accuracy_undersampled_verb = accuracy_score(y_test, brf_pred_undersampled_verb)\n",
    "accuracy_oversampled_verb = accuracy_score(y_test, brf_pred_oversampled_verb)\n",
    "\n",
    "print(\"Accuracy usando RandomForestClassifier con submuestreo:\", accuracy_undersampled_verb)\n",
    "print(\"Accuracy usando RandomForestClassifier con sobremuestreo aleatorio:\", accuracy_oversampled_verb)\n",
    "\n"
   ]
  },
  {
   "cell_type": "markdown",
   "metadata": {},
   "source": []
  },
  {
   "cell_type": "code",
   "execution_count": 19,
   "metadata": {},
   "outputs": [
    {
     "name": "stdout",
     "output_type": "stream",
     "text": [
      "Métricas Naive Bayes:\n",
      "Accuracy: 0.8013245033112583\n",
      "Precision: 0.8019547181234966\n",
      "Recall: 0.8013245033112583\n",
      "F1-score: 0.8008364580591182\n",
      "Reporte de clasificación:\n",
      "               precision    recall  f1-score   support\n",
      "\n",
      "          -1       0.88      0.88      0.88      3085\n",
      "           0       0.65      0.59      0.62       984\n",
      "           1       0.67      0.77      0.72       763\n",
      "\n",
      "    accuracy                           0.80      4832\n",
      "   macro avg       0.74      0.75      0.74      4832\n",
      "weighted avg       0.80      0.80      0.80      4832\n",
      "\n",
      "\n",
      "Métricas KNN:\n",
      "Accuracy: 0.357408940397351\n",
      "Precision: 0.659172964140626\n",
      "Recall: 0.357408940397351\n",
      "F1-score: 0.3313886364718795\n",
      "Reporte de clasificación:\n",
      "               precision    recall  f1-score   support\n",
      "\n",
      "          -1       0.87      0.18      0.29      3085\n",
      "           0       0.27      0.63      0.37       984\n",
      "           1       0.30      0.74      0.42       763\n",
      "\n",
      "    accuracy                           0.36      4832\n",
      "   macro avg       0.48      0.51      0.36      4832\n",
      "weighted avg       0.66      0.36      0.33      4832\n",
      "\n"
     ]
    }
   ],
   "source": [
    "##Ajuste mediante el uso de otros algoritmos\n",
    "from sklearn.naive_bayes import MultinomialNB\n",
    "from sklearn.neighbors import KNeighborsClassifier\n",
    "from sklearn.svm import SVC\n",
    "from sklearn.ensemble import GradientBoostingClassifier\n",
    "from sklearn.neural_network import MLPClassifier\n",
    "from sklearn.metrics import accuracy_score\n",
    "from imblearn.ensemble import BalancedRandomForestClassifier\n",
    "from sklearn.ensemble import BaggingClassifier, GradientBoostingClassifier\n",
    "from sklearn.pipeline import Pipeline\n",
    "from sklearn.preprocessing import FunctionTransformer\n",
    "from imblearn.pipeline import make_pipeline as make_imb_pipeline\n",
    "from imblearn.over_sampling import RandomOverSampler\n",
    "from sklearn.feature_extraction.text import CountVectorizer\n",
    "from sklearn.naive_bayes import MultinomialNB\n",
    "from sklearn.metrics import accuracy_score\n",
    "from sklearn.ensemble import AdaBoostClassifier\n",
    "from imblearn.ensemble import BalancedRandomForestClassifier\n",
    "from sklearn.metrics import accuracy_score, precision_score, recall_score, f1_score, classification_report, confusion_matrix\n",
    "\n",
    "# Modelo Naive Bayes\n",
    "nb_classifier = MultinomialNB()\n",
    "nb_classifier.fit(X_train_oversampled, y_train_oversampled)\n",
    "nb_pred = nb_classifier.predict(X_test_vectorized_split)\n",
    "\n",
    "\n",
    "# Métricas Naive Bayes\n",
    "accuracy_nb = accuracy_score(y_test, nb_pred)\n",
    "precision_nb = precision_score(y_test, nb_pred, average='weighted')\n",
    "recall_nb = recall_score(y_test, nb_pred, average='weighted')\n",
    "f1_nb = f1_score(y_test, nb_pred, average='weighted')\n",
    "classification_report_nb = classification_report(y_test, nb_pred)\n",
    "print(\"Métricas Naive Bayes:\")\n",
    "print(\"Accuracy:\", accuracy_nb)\n",
    "print(\"Precision:\", precision_nb)\n",
    "print(\"Recall:\", recall_nb)\n",
    "print(\"F1-score:\", f1_nb)\n",
    "print(\"Reporte de clasificación:\\n\", classification_report_nb)\n",
    "\n",
    "# Modelo KNN\n",
    "knn_classifier = KNeighborsClassifier()\n",
    "knn_classifier.fit(X_train_oversampled, y_train_oversampled)\n",
    "knn_pred = knn_classifier.predict(X_test_vectorized_split)\n",
    "\n",
    "# Métricas KNN\n",
    "accuracy_knn = accuracy_score(y_test, knn_pred)\n",
    "precision_knn = precision_score(y_test, knn_pred, average='weighted')\n",
    "recall_knn = recall_score(y_test, knn_pred, average='weighted')\n",
    "f1_knn = f1_score(y_test, knn_pred, average='weighted')\n",
    "classification_report_knn = classification_report(y_test, knn_pred)\n",
    "\n",
    "\n",
    "print(\"\\nMétricas KNN:\")\n",
    "print(\"Accuracy:\", accuracy_knn)\n",
    "print(\"Precision:\", precision_knn)\n",
    "print(\"Recall:\", recall_knn)\n",
    "print(\"F1-score:\", f1_knn)\n",
    "print(\"Reporte de clasificación:\\n\", classification_report_knn)"
   ]
  },
  {
   "cell_type": "code",
   "execution_count": 20,
   "metadata": {},
   "outputs": [
    {
     "name": "stdout",
     "output_type": "stream",
     "text": [
      "Métricas SVM:\n",
      "Accuracy: 0.7711092715231788\n",
      "Precision: 0.7750268142397624\n",
      "Recall: 0.7711092715231788\n",
      "F1-score: 0.7728846574439636\n",
      "Reporte de clasificación:\n",
      "               precision    recall  f1-score   support\n",
      "\n",
      "          -1       0.86      0.85      0.85      3085\n",
      "           0       0.56      0.59      0.57       984\n",
      "           1       0.70      0.69      0.70       763\n",
      "\n",
      "    accuracy                           0.77      4832\n",
      "   macro avg       0.71      0.71      0.71      4832\n",
      "weighted avg       0.78      0.77      0.77      4832\n",
      "\n",
      "Métricas Gradient Boosting:\n",
      "Accuracy: 0.7168874172185431\n",
      "Precision: 0.7690830186144436\n",
      "Recall: 0.7168874172185431\n",
      "F1-score: 0.7302270890112358\n",
      "Reporte de clasificación:\n",
      "               precision    recall  f1-score   support\n",
      "\n",
      "          -1       0.91      0.72      0.80      3085\n",
      "           0       0.50      0.71      0.58       984\n",
      "           1       0.56      0.73      0.63       763\n",
      "\n",
      "    accuracy                           0.72      4832\n",
      "   macro avg       0.65      0.72      0.67      4832\n",
      "weighted avg       0.77      0.72      0.73      4832\n",
      "\n"
     ]
    }
   ],
   "source": [
    "# Modelo SVM\n",
    "svm_classifier = SVC(kernel='linear', random_state=42)\n",
    "svm_classifier.fit(X_train_oversampled, y_train_oversampled)\n",
    "svm_pred = svm_classifier.predict(X_test_vectorized_split)\n",
    "\n",
    "# Métricas SVM\n",
    "accuracy_svm = accuracy_score(y_test, svm_pred)\n",
    "precision_svm = precision_score(y_test, svm_pred, average='weighted')\n",
    "recall_svm = recall_score(y_test, svm_pred, average='weighted')\n",
    "f1_svm = f1_score(y_test, svm_pred, average='weighted')\n",
    "classification_report_svm = classification_report(y_test, svm_pred)\n",
    "\n",
    "print(\"Métricas SVM:\")\n",
    "print(\"Accuracy:\", accuracy_svm)\n",
    "print(\"Precision:\", precision_svm)\n",
    "print(\"Recall:\", recall_svm)\n",
    "print(\"F1-score:\", f1_svm)\n",
    "print(\"Reporte de clasificación:\\n\", classification_report_svm)\n",
    "\n",
    "# Modelo Gradient Boosting\n",
    "gb_classifier = GradientBoostingClassifier(random_state=42)\n",
    "gb_classifier.fit(X_train_oversampled, y_train_oversampled)\n",
    "gb_pred = gb_classifier.predict(X_test_vectorized_split)\n",
    "\n",
    "# Métricas Gradient Boosting\n",
    "accuracy_gb = accuracy_score(y_test, gb_pred)\n",
    "precision_gb = precision_score(y_test, gb_pred, average='weighted')\n",
    "recall_gb = recall_score(y_test, gb_pred, average='weighted')\n",
    "f1_gb = f1_score(y_test, gb_pred, average='weighted')\n",
    "classification_report_gb = classification_report(y_test, gb_pred)\n",
    "\n",
    "print(\"Métricas Gradient Boosting:\")\n",
    "print(\"Accuracy:\", accuracy_gb)\n",
    "print(\"Precision:\", precision_gb)\n",
    "print(\"Recall:\", recall_gb)\n",
    "print(\"F1-score:\", f1_gb)\n",
    "print(\"Reporte de clasificación:\\n\", classification_report_gb)"
   ]
  },
  {
   "cell_type": "code",
   "execution_count": 21,
   "metadata": {},
   "outputs": [
    {
     "name": "stdout",
     "output_type": "stream",
     "text": [
      "Métricas BalancedRandomForestClassifier:\n",
      "Accuracy: 0.7882864238410596\n",
      "Precision: 0.7796011732819458\n",
      "Recall: 0.7882864238410596\n",
      "F1-score: 0.7761075691740941\n",
      "Reporte de clasificación:\n",
      "               precision    recall  f1-score   support\n",
      "\n",
      "          -1       0.81      0.94      0.87      3085\n",
      "           0       0.66      0.51      0.57       984\n",
      "           1       0.78      0.56      0.65       763\n",
      "\n",
      "    accuracy                           0.79      4832\n",
      "   macro avg       0.75      0.67      0.70      4832\n",
      "weighted avg       0.78      0.79      0.78      4832\n",
      "\n"
     ]
    }
   ],
   "source": [
    "# Modelo BalancedRandomForestClassifier\n",
    "brf_classifier = BalancedRandomForestClassifier(random_state=42)\n",
    "brf_classifier.fit(X_train_oversampled, y_train_oversampled)\n",
    "brf_pred = brf_classifier.predict(X_test_vectorized_split)\n",
    "\n",
    "# Métricas\n",
    "accuracy_brf = accuracy_score(y_test, brf_pred)\n",
    "precision_brf = precision_score(y_test, brf_pred, average='weighted')\n",
    "recall_brf = recall_score(y_test, brf_pred, average='weighted')\n",
    "f1_brf = f1_score(y_test, brf_pred, average='weighted')\n",
    "classification_report_brf = classification_report(y_test, brf_pred)\n",
    "\n",
    "print(\"Métricas BalancedRandomForestClassifier:\")\n",
    "print(\"Accuracy:\", accuracy_brf)\n",
    "print(\"Precision:\", precision_brf)\n",
    "print(\"Recall:\", recall_brf)\n",
    "print(\"F1-score:\", f1_brf)\n",
    "print(\"Reporte de clasificación:\\n\", classification_report_brf)"
   ]
  },
  {
   "cell_type": "code",
   "execution_count": 22,
   "metadata": {},
   "outputs": [
    {
     "name": "stdout",
     "output_type": "stream",
     "text": [
      "Métricas BaggingClassifier:\n",
      "Accuracy: 0.6901903973509934\n",
      "Precision: 0.7559955714446501\n",
      "Recall: 0.6901903973509934\n",
      "F1-score: 0.7060717399605252\n",
      "Reporte de clasificación:\n",
      "               precision    recall  f1-score   support\n",
      "\n",
      "          -1       0.90      0.68      0.77      3085\n",
      "           0       0.45      0.68      0.54       984\n",
      "           1       0.57      0.75      0.65       763\n",
      "\n",
      "    accuracy                           0.69      4832\n",
      "   macro avg       0.64      0.70      0.65      4832\n",
      "weighted avg       0.76      0.69      0.71      4832\n",
      "\n"
     ]
    }
   ],
   "source": [
    "# Modelo AdaBoostClassifier\n",
    "adaboost_classifier = AdaBoostClassifier(n_estimators=50, random_state=42)\n",
    "adaboost_classifier.fit(X_train_oversampled, y_train_oversampled)\n",
    "adaboost_pred = adaboost_classifier.predict(X_test_vectorized_split)\n",
    "\n",
    "\n",
    "# Métricas AdaBoostClassifier\n",
    "accuracy_bagging = accuracy_score(y_test, adaboost_pred)\n",
    "precision_bagging = precision_score(y_test, adaboost_pred, average='weighted')\n",
    "recall_bagging = recall_score(y_test, adaboost_pred, average='weighted')\n",
    "f1_bagging = f1_score(y_test, adaboost_pred, average='weighted')\n",
    "classification_report_bagging = classification_report(y_test, adaboost_pred)\n",
    "\n",
    "print(\"Métricas BaggingClassifier:\")\n",
    "print(\"Accuracy:\", accuracy_bagging)\n",
    "print(\"Precision:\", precision_bagging)\n",
    "print(\"Recall:\", recall_bagging)\n",
    "print(\"F1-score:\", f1_bagging)\n",
    "print(\"Reporte de clasificación:\\n\", classification_report_bagging)"
   ]
  },
  {
   "cell_type": "code",
   "execution_count": 24,
   "metadata": {},
   "outputs": [
    {
     "name": "stdout",
     "output_type": "stream",
     "text": [
      "Random Forest Metrics (Oversampled):\n",
      "Accuracy: 0.7913907284768212\n",
      "Precision: 0.7826282780811741\n",
      "Recall: 0.7913907284768212\n",
      "F1 Score: 0.780136340052312\n"
     ]
    }
   ],
   "source": [
    "brf_pred_oversampled = brf_oversampled.predict(X_test_vectorized_split)\n",
    "\n",
    "# Métricas RandomForestClassifier\n",
    "accuracy_rf = accuracy_score(y_test, brf_pred_oversampled)\n",
    "precision_rf = precision_score(y_test, brf_pred_oversampled, average='weighted')\n",
    "recall_rf = recall_score(y_test, brf_pred_oversampled, average='weighted')\n",
    "f1_rf = f1_score(y_test, brf_pred_oversampled, average='weighted')\n",
    "\n",
    "print(\"Random Forest Metrics (Oversampled):\")\n",
    "print(\"Accuracy:\", accuracy_rf)\n",
    "print(\"Precision:\", precision_rf)\n",
    "print(\"Recall:\", recall_rf)\n",
    "print(\"F1 Score:\", f1_rf)"
   ]
  },
  {
   "cell_type": "code",
   "execution_count": 28,
   "metadata": {},
   "outputs": [
    {
     "data": {
      "image/png": "[encoded data removed]",
      "text/plain": [
       "<Figure size 1200x800 with 1 Axes>"
      ]
     },
     "metadata": {},
     "output_type": "display_data"
    }
   ],
   "source": [
    "import matplotlib.pyplot as plt\n",
    "\n",
    "svm_metric_values = [accuracy_svm, precision_svm, recall_svm, f1_svm]\n",
    "rf_metric_values = [accuracy_rf, precision_rf, recall_rf, f1_rf]\n",
    "nb_metric_values = [accuracy_nb, precision_nb, recall_nb, f1_nb]\n",
    "gb_metric_values = [accuracy_gb, precision_gb, recall_gb, f1_gb]\n",
    "brf_metric_values = [accuracy_brf, precision_brf, recall_brf, f1_brf]\n",
    "bag_metric_values = [accuracy_bagging, precision_bagging, recall_bagging, f1_bagging]\n",
    "\n",
    "\n",
    "metric_names = ['Accuracy', 'Precision', 'Recall', 'F1-score']\n",
    "\n",
    "plt.figure(figsize=(12, 8))\n",
    "\n",
    "\n",
    "\n",
    "plt.plot(metric_names, svm_metric_values, marker='^', label='SVM', linestyle='-')\n",
    "plt.plot(metric_names, rf_metric_values, marker='s', label='Random Forest', linestyle='-')\n",
    "plt.plot(metric_names, nb_metric_values, marker='*', label='Naive Bayes', linestyle='-')\n",
    "plt.plot(metric_names, gb_metric_values, marker='x', label='Gradient Boosting', linestyle='-')\n",
    "plt.plot(metric_names, brf_metric_values, marker='d', label='Balanced Random Forest', linestyle='-')\n",
    "plt.plot(metric_names, bag_metric_values, marker='p', label='Bagging Classifier', linestyle='-')\n",
    "\n",
    "\n",
    "\n",
    "    \n",
    "for i, metric_value in enumerate(rf_metric_values):\n",
    "    rounded_value = round(metric_value, 3)  # Round to 3 decimal places\n",
    "    plt.annotate(f\"{rounded_value:.3f}\", xy=(metric_names[i], metric_value), \n",
    "                 horizontalalignment='center', verticalalignment='bottom')\n",
    "for i, metric_value in enumerate(nb_metric_values):\n",
    "    rounded_value = round(metric_value, 3)  # Round to 3 decimal places\n",
    "    plt.annotate(f\"{rounded_value:.3f}\", xy=(metric_names[i], metric_value), \n",
    "                 horizontalalignment='center', verticalalignment='bottom')\n",
    "for i, metric_value in enumerate(gb_metric_values):\n",
    "    rounded_value = round(metric_value, 3)  # Round to 3 decimal places\n",
    "    plt.annotate(f\"{rounded_value:.3f}\", xy=(metric_names[i], metric_value), \n",
    "                 horizontalalignment='center', verticalalignment='bottom')\n",
    "for i, metric_value in enumerate(brf_metric_values):\n",
    "    rounded_value = round(metric_value, 3)  # Round to 3 decimal places\n",
    "    plt.annotate(f\"{rounded_value:.3f}\", xy=(metric_names[i], metric_value), \n",
    "                 horizontalalignment='center', verticalalignment='bottom')\n",
    "for i, metric_value in enumerate(bag_metric_values):\n",
    "    rounded_value = round(metric_value, 3)  # Round to 3 decimal places\n",
    "    plt.annotate(f\"{rounded_value:.3f}\", xy=(metric_names[i], metric_value), \n",
    "                 horizontalalignment='center', verticalalignment='bottom')\n",
    "for i, metric_value in enumerate(svm_metric_values):\n",
    "    rounded_value = round(metric_value, 3)\n",
    "    plt.annotate(f\"{rounded_value:.3f}\", xy=(metric_names[i], metric_value), \n",
    "                 horizontalalignment='center', verticalalignment='top')\n",
    "\n",
    "\n",
    "\n",
    "plt.title('Comparison of Model Metrics')\n",
    "plt.xlabel('Metric')\n",
    "plt.ylabel('Value')\n",
    "plt.xticks(rotation=45, ha='right')\n",
    "plt.legend()\n",
    "plt.grid(True)\n",
    "\n",
    "\n",
    "plt.tight_layout()\n",
    "plt.show()\n"
   ]
  },
  {
   "cell_type": "markdown",
   "metadata": {},
   "source": [
    "### Mejor Modelo\n",
    "\n",
    "De acuerdo con el enunciado se crea un modelo RF balanceado que tiene un accuracy de 0.791, sin embargo al ser evaluado respecto a otros modelos es posible confirmar que el modelo Naive Bayes presenta un mejor desempeño con un accuracy de 0.801.\n",
    "\n",
    "Sin embargo, considerando la naturaleza del problema de identificación de sentimientos en tweets, el mejor modelo dependerá de la importancia relativa de la precisión y el recall, dado que la identificación precisa de sentimientos es crucial en este escenario, la precisión y el recall son métricas clave a considerar. Un alto recall asegura que el modelo capture la mayoría de los tweets relevantes (positivos o negativos), mientras que una alta precisión indica que la mayoría de los tweets clasificados como positivos o negativos son realmente correctos.\n",
    "\n",
    "Por otra parte aunque la exactitud puede ser útil para evaluar el rendimiento general del modelo, es importante tener en cuenta que puede ser engañosa en conjuntos de datos desbalanceados, como es el caso actual.\n",
    "\n",
    "No obstante, estos modelos no serán tenidos en cuenta para la comparación del punto 5, sino solamente el RF no balanceado con accuracy de 0.725.\n"
   ]
  },
  {
   "cell_type": "markdown",
   "metadata": {},
   "source": [
    "### Punto 4 - Multiples técnicas\n",
    "\n",
    "En la celda 4 creen un modelo de random forest con la libreria sklearn que prediga el sentimiento de los tweets usando los set de entrenamiento y test definidos anteriormente. Usen la función **CountVectorizer, eliminen stopwords, lematizen el texto con verbos** y presenten el desempeño del modelo con la métrica del acurracy.\n",
    "\n",
    "Recuerden que el preprocesamiento que se haga sobre los datos de entrenamiento  (*.fit_transform()*) deben ser aplicado al set de test (*.transform()*)."
   ]
  },
  {
   "cell_type": "code",
   "execution_count": 32,
   "metadata": {},
   "outputs": [
    {
     "name": "stdout",
     "output_type": "stream",
     "text": [
      "Accuracy del modelo: 0.7249586092715232\n"
     ]
    }
   ],
   "source": [
    "# Celda 4\n",
    "# Definir stop words\n",
    "spanish_stopwords = nltk.corpus.stopwords.words('spanish')\n",
    "\n",
    "## Lematizar verbos\n",
    "\n",
    "def lemmatize_with_verbs(text):\n",
    "    lemmatizer = WordNetLemmatizer()\n",
    "    tokens = word_tokenize(text)\n",
    "    lemmatized_tokens = []\n",
    "    for word, tag in pos_tag(tokens):\n",
    "        if tag.startswith('V'):  # Si la palabra es un verbo\n",
    "            lemmatized_tokens.append(lemmatizer.lemmatize(word, pos='v'))  # Lematizar el verbo\n",
    "        else:\n",
    "            lemmatized_tokens.append(word)  # Mantener la palabra original si no es un verbo\n",
    "    return ' '.join(lemmatized_tokens)\n",
    "\n",
    "# Initialize the CountVectorizer\n",
    "vectorizer_count = CountVectorizer(stop_words=spanish_stopwords, analyzer=lemmatize_with_verbs)\n",
    "X_train_vectorizado = vectorizer_count.fit_transform(X_train)\n",
    "X_test_vectorizado = vectorizer_count.transform(X_test)\n",
    "\n",
    "# train XGBoost model\n",
    "model = RandomForestClassifier(random_state=42)\n",
    "model.fit(X_train_vectorizado, y_train)\n",
    "\n",
    "# make predictions on test set\n",
    "y_pred = model.predict(X_test_vectorizado)\n",
    "accuracy_p4 = accuracy_score(y_test, y_pred)\n",
    "\n",
    "print(\"Accuracy del modelo:\", accuracy_p4)\n"
   ]
  },
  {
   "cell_type": "markdown",
   "metadata": {},
   "source": [
    "### Punto 5 - Comparación y análisis de resultados\n",
    "\n",
    "En la celda 5 comparen los resultados obtenidos de los diferentes modelos (random forest) y comenten las ventajas del mejor modelo y las desventajas del modelo con el menor desempeño."
   ]
  },
  {
   "cell_type": "code",
   "execution_count": 36,
   "metadata": {},
   "outputs": [
    {
     "data": {
      "image/png": "[encoded data removed]",
      "text/plain": [
       "<Figure size 640x480 with 1 Axes>"
      ]
     },
     "metadata": {},
     "output_type": "display_data"
    }
   ],
   "source": [
    "# Celda 5\n",
    "accuracy_p3=accuracy_oversampled_verb\n",
    "\n",
    "##Comparación de Accuracy\n",
    "fig = plt.figure()\n",
    "ax = fig.add_axes([0,0,1,1])\n",
    "ax.set_title(\"Comparación de modelos por Accuracy\")\n",
    "ejeX = ['CountVectorizer','Elim. Stopwords' ,'Lematización Verbos','Multi. Técnicas']\n",
    "ejeY = [round(accuracy_p1,3),round(accuracy_p2,3),round(accuracy_p3,3),round(accuracy_p4,3)]\n",
    "ax.bar(ejeX,ejeY)\n",
    "def addlabels(x,y,plotP):\n",
    "    for i in range(len(x)):\n",
    "        plotP.text(i,y[i],y[i])\n",
    "addlabels(ejeX,ejeY,plt)\n",
    "plt.show()"
   ]
  },
  {
   "cell_type": "markdown",
   "metadata": {},
   "source": [
    "### Comentarios finales\n",
    "Como se puede ver, el modelo con solo CountVectorizer tiene un mejor desempeño, mientras que los que eliminan stopwords y lematizan con verbos pierden accuracy. Esto se puede deber a que eliminar stopwords o lematizar puede hacer que se pierda información importante, en especial en casos en los que los textos son muy reducidos, como lo son los tweets. Adicionalmente, se debe tener en cuenta que los tweets son muy informales y ya de por sí pueden tener varias abreviaciones en su contenido. Por otro lado, twitter es una plataforma global, por lo que, aunque los textos sean en espanol, puede que las mismas palabras o verbos tengan diferentes significados dependiendo del origen del autor. Entonces, teniendo en cuenta la globalidad de twitter y la restriccion de caracteres de los comentarios, el modelo original puede ser más apto ya que mantiene la máxima información posible."
   ]
  },
  {
   "cell_type": "code",
   "execution_count": null,
   "metadata": {},
   "outputs": [],
   "source": []
  }
 ],
 "metadata": {
  "kernelspec": {
   "display_name": "Python 3 (ipykernel)",
   "language": "python",
   "name": "python3"
  },
  "language_info": {
   "codemirror_mode": {
    "name": "ipython",
    "version": 3
   },
   "file_extension": ".py",
   "mimetype": "text/x-python",
   "name": "python",
   "nbconvert_exporter": "python",
   "pygments_lexer": "ipython3",
   "version": "3.11.8"
  }
 },
 "nbformat": 4,
 "nbformat_minor": 4
}
